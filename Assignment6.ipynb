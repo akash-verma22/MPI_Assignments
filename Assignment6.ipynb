{
  "nbformat": 4,
  "nbformat_minor": 0,
  "metadata": {
    "colab": {
      "provenance": [],
      "gpuType": "T4",
      "authorship_tag": "ABX9TyMERvU1ofNDpLADqiX6D8ji",
      "include_colab_link": true
    },
    "kernelspec": {
      "name": "python3",
      "display_name": "Python 3"
    },
    "language_info": {
      "name": "python"
    },
    "accelerator": "GPU"
  },
  "cells": [
    {
      "cell_type": "markdown",
      "metadata": {
        "id": "view-in-github",
        "colab_type": "text"
      },
      "source": [
        "<a href=\"https://colab.research.google.com/github/akash-verma22/MPI_Assignments/blob/main/Assignment6.ipynb\" target=\"_parent\"><img src=\"https://colab.research.google.com/assets/colab-badge.svg\" alt=\"Open In Colab\"/></a>"
      ]
    },
    {
      "cell_type": "code",
      "execution_count": 1,
      "metadata": {
        "colab": {
          "base_uri": "https://localhost:8080/"
        },
        "id": "P8Ju9bLKCRGa",
        "outputId": "c5f3c50d-4e33-4cb8-9cfc-ad00542f40d2"
      },
      "outputs": [
        {
          "output_type": "stream",
          "name": "stdout",
          "text": [
            "Writing assign6.cu\n"
          ]
        }
      ],
      "source": [
        "%%writefile assign6.cu\n",
        "#include <stdio.h>\n",
        "#include <math.h>\n",
        "#include <cuda_runtime.h>\n",
        "#include <chrono>\n",
        "\n",
        "\n",
        "__global__ void computeSqrt(const float *A, float *C, int N) {\n",
        "    int idx = blockIdx.x * blockDim.x + threadIdx.x;\n",
        "    if (idx < N) {\n",
        "        C[idx] = sqrtf(A[idx]);\n",
        "    }\n",
        "}\n",
        "\n",
        "\n",
        "void runSqrtKernel(int N) {\n",
        "    float *h_A = new float[N];\n",
        "    float *h_C = new float[N];\n",
        "\n",
        "\n",
        "    for (int i = 0; i < N; ++i)\n",
        "        h_A[i] = static_cast<float>(i + 1);\n",
        "\n",
        "    float *d_A, *d_C;\n",
        "    cudaMalloc(&d_A, N * sizeof(float));\n",
        "    cudaMalloc(&d_C, N * sizeof(float));\n",
        "\n",
        "    cudaMemcpy(d_A, h_A, N * sizeof(float), cudaMemcpyHostToDevice);\n",
        "\n",
        "    int threadsPerBlock = 256;\n",
        "    int blocks = (N + threadsPerBlock - 1) / threadsPerBlock;\n",
        "\n",
        "\n",
        "    auto start = std::chrono::high_resolution_clock::now();\n",
        "\n",
        "    computeSqrt<<<blocks, threadsPerBlock>>>(d_A, d_C, N);\n",
        "    cudaDeviceSynchronize();\n",
        "\n",
        "    auto end = std::chrono::high_resolution_clock::now();\n",
        "    std::chrono::duration<double, std::milli> elapsed = end - start;\n",
        "\n",
        "    printf(\"N = %d, Time = %f ms\\n\", N, elapsed.count());\n",
        "\n",
        "    cudaMemcpy(h_C, d_C, N * sizeof(float), cudaMemcpyDeviceToHost);\n",
        "\n",
        "\n",
        "    delete[] h_A;\n",
        "    delete[] h_C;\n",
        "    cudaFree(d_A);\n",
        "    cudaFree(d_C);\n",
        "}\n",
        "\n",
        "int main() {\n",
        "    const int numTests = 4;\n",
        "    int sizes[numTests] = {50000, 500000, 5000000, 50000000};\n",
        "\n",
        "\n",
        "\n",
        "    for (int i = 0; i < 4; ++i) {\n",
        "\n",
        "        runSqrtKernel(sizes[i]);\n",
        "    }\n",
        "\n",
        "    return 0;\n",
        "}\n"
      ]
    },
    {
      "cell_type": "code",
      "source": [
        "!nvcc -O2 -o assign6 assign6.cu\n",
        "!./assign6"
      ],
      "metadata": {
        "colab": {
          "base_uri": "https://localhost:8080/"
        },
        "id": "SHP5doKwCw33",
        "outputId": "1f9c28e0-9b5d-42aa-d99d-78fce10b8ac5"
      },
      "execution_count": 2,
      "outputs": [
        {
          "output_type": "stream",
          "name": "stdout",
          "text": [
            "N = 50000, Time = 61.699779 ms\n",
            "N = 500000, Time = 0.079040 ms\n",
            "N = 5000000, Time = 0.076638 ms\n",
            "N = 50000000, Time = 0.061090 ms\n"
          ]
        }
      ]
    },
    {
      "cell_type": "code",
      "source": [
        "!pip install pandas xlsxwriter openpyxl"
      ],
      "metadata": {
        "colab": {
          "base_uri": "https://localhost:8080/"
        },
        "id": "MUuMDauqDAjh",
        "outputId": "3709a7cb-6c7d-4649-effe-29df6b074d4d"
      },
      "execution_count": 3,
      "outputs": [
        {
          "output_type": "stream",
          "name": "stdout",
          "text": [
            "Requirement already satisfied: pandas in /usr/local/lib/python3.11/dist-packages (2.2.2)\n",
            "Collecting xlsxwriter\n",
            "  Downloading XlsxWriter-3.2.3-py3-none-any.whl.metadata (2.7 kB)\n",
            "Requirement already satisfied: openpyxl in /usr/local/lib/python3.11/dist-packages (3.1.5)\n",
            "Requirement already satisfied: numpy>=1.23.2 in /usr/local/lib/python3.11/dist-packages (from pandas) (2.0.2)\n",
            "Requirement already satisfied: python-dateutil>=2.8.2 in /usr/local/lib/python3.11/dist-packages (from pandas) (2.8.2)\n",
            "Requirement already satisfied: pytz>=2020.1 in /usr/local/lib/python3.11/dist-packages (from pandas) (2025.2)\n",
            "Requirement already satisfied: tzdata>=2022.7 in /usr/local/lib/python3.11/dist-packages (from pandas) (2025.2)\n",
            "Requirement already satisfied: et-xmlfile in /usr/local/lib/python3.11/dist-packages (from openpyxl) (2.0.0)\n",
            "Requirement already satisfied: six>=1.5 in /usr/local/lib/python3.11/dist-packages (from python-dateutil>=2.8.2->pandas) (1.17.0)\n",
            "Downloading XlsxWriter-3.2.3-py3-none-any.whl (169 kB)\n",
            "\u001b[2K   \u001b[90m━━━━━━━━━━━━━━━━━━━━━━━━━━━━━━━━━━━━━━━━\u001b[0m \u001b[32m169.4/169.4 kB\u001b[0m \u001b[31m3.2 MB/s\u001b[0m eta \u001b[36m0:00:00\u001b[0m\n",
            "\u001b[?25hInstalling collected packages: xlsxwriter\n",
            "Successfully installed xlsxwriter-3.2.3\n"
          ]
        }
      ]
    },
    {
      "cell_type": "code",
      "source": [
        "import pandas as pd\n",
        "\n",
        "\n",
        "data = {\n",
        "    'Array Size': [50000, 500000, 5000000, 50000000],\n",
        "    'Time (ms)': [7.6290,0.0950,0.0706,0.0618]\n",
        "}\n",
        "\n",
        "\n",
        "df = pd.DataFrame(data)\n",
        "\n",
        "\n",
        "with pd.ExcelWriter('results.xlsx', engine='xlsxwriter') as writer:\n",
        "    df.to_excel(writer, sheet_name='Timings', index=False)\n",
        "\n",
        "    workbook  = writer.book\n",
        "    worksheet = writer.sheets['Timings']\n",
        "\n",
        "\n",
        "    chart = workbook.add_chart({'type': 'line'})\n",
        "\n",
        "\n",
        "    chart.add_series({\n",
        "        'name':       'Execution Time',\n",
        "        'categories': ['Timings', 1, 0, len(df), 0],\n",
        "        'values':     ['Timings', 1, 1, len(df), 1],\n",
        "        'marker':     {'type': 'circle', 'size': 5}\n",
        "    })\n",
        "\n",
        "\n",
        "    chart.set_title({'name': 'CUDA Square Root Kernel Performance'})\n",
        "    chart.set_x_axis({'name': 'Array Size'})\n",
        "    chart.set_y_axis({'name': 'Execution Time (ms)'})\n",
        "    chart.set_style(10)\n",
        "\n",
        "\n",
        "    worksheet.insert_chart('D2', chart)\n"
      ],
      "metadata": {
        "id": "etmOcMyVDDow"
      },
      "execution_count": 4,
      "outputs": []
    },
    {
      "cell_type": "code",
      "source": [],
      "metadata": {
        "id": "Acg286DaDHTB"
      },
      "execution_count": null,
      "outputs": []
    }
  ]
}