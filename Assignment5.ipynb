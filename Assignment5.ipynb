{
  "nbformat": 4,
  "nbformat_minor": 0,
  "metadata": {
    "colab": {
      "provenance": [],
      "gpuType": "T4",
      "authorship_tag": "ABX9TyNb869pHALWGjy4aijvkMdT",
      "include_colab_link": true
    },
    "kernelspec": {
      "name": "python3",
      "display_name": "Python 3"
    },
    "language_info": {
      "name": "python"
    },
    "accelerator": "GPU"
  },
  "cells": [
    {
      "cell_type": "markdown",
      "metadata": {
        "id": "view-in-github",
        "colab_type": "text"
      },
      "source": [
        "<a href=\"https://colab.research.google.com/github/akash-verma22/MPI_Assignments/blob/main/Assignment5.ipynb\" target=\"_parent\"><img src=\"https://colab.research.google.com/assets/colab-badge.svg\" alt=\"Open In Colab\"/></a>"
      ]
    },
    {
      "cell_type": "markdown",
      "source": [
        "# Question 1.1\n"
      ],
      "metadata": {
        "id": "E2Zzp9OKArVc"
      }
    },
    {
      "cell_type": "code",
      "source": [
        "%%writefile 1.1.cu\n",
        "#include <stdio.h>\n",
        "#include <cuda_runtime.h>\n",
        "\n",
        "#define N 1048576\n",
        "__device__ float d_A[N];\n",
        "__device__ float d_B[N];\n",
        "__device__ float d_C[N];\n",
        "\n",
        "__global__ void vectorAdd(int n)\n",
        "{\n",
        "    int i = blockDim.x * blockIdx.x + threadIdx.x;\n",
        "    if (i < n)\n",
        "    {\n",
        "        d_C[i] = d_A[i] + d_B[i];\n",
        "    }\n",
        "}\n",
        "\n",
        "__global__ void initializeArrays(int n)\n",
        "{\n",
        "    int i = blockDim.x * blockIdx.x + threadIdx.x;\n",
        "    if (i < n)\n",
        "    {\n",
        "        d_A[i] = i;\n",
        "        d_B[i] = 2 * i;\n",
        "    }\n",
        "}\n",
        "\n",
        "int main(void)\n",
        "{\n",
        "    cudaError_t err = cudaSuccess;\n",
        "\n",
        "    printf(\"Vector addition of %d elements\\n\", N);\n",
        "\n",
        "    int threadsPerBlock = 256;\n",
        "    int blocksPerGrid = (N + threadsPerBlock - 1) / threadsPerBlock;\n",
        "\n",
        "    printf(\"CUDA kernel launch with %d blocks of %d threads\\n\", blocksPerGrid, threadsPerBlock);\n",
        "\n",
        "    initializeArrays<<<blocksPerGrid, threadsPerBlock>>>(N);\n",
        "    err = cudaGetLastError();\n",
        "    if (err != cudaSuccess)\n",
        "    {\n",
        "        fprintf(stderr, \"Failed to launch initialize kernel (error code %s)!\\n\", cudaGetErrorString(err));\n",
        "        exit(EXIT_FAILURE);\n",
        "    }\n",
        "\n",
        "    cudaDeviceSynchronize();\n",
        "\n",
        "    vectorAdd<<<blocksPerGrid, threadsPerBlock>>>(N);\n",
        "    err = cudaGetLastError();\n",
        "    if (err != cudaSuccess)\n",
        "    {\n",
        "        fprintf(stderr, \"Failed to launch vectorAdd kernel (error code %s)!\\n\", cudaGetErrorString(err));\n",
        "        exit(EXIT_FAILURE);\n",
        "    }\n",
        "\n",
        "    cudaDeviceSynchronize();\n",
        "\n",
        "    float h_C[10]; // Just verify first 10 elements to avoid memory issues\n",
        "    err = cudaMemcpyFromSymbol(h_C, d_C, 10 * sizeof(float));\n",
        "    if (err != cudaSuccess)\n",
        "    {\n",
        "        fprintf(stderr, \"Failed to copy result array from device to host (error code %s)!\\n\", cudaGetErrorString(err));\n",
        "        exit(EXIT_FAILURE);\n",
        "    }\n",
        "\n",
        "    for (int i = 0; i < 10; i++)\n",
        "    {\n",
        "        float expected = i + 2*i;\n",
        "        if (fabs(h_C[i] - expected) > 1e-5)\n",
        "        {\n",
        "            fprintf(stderr, \"Result verification failed at element %d!\\n\", i);\n",
        "            exit(EXIT_FAILURE);\n",
        "        }\n",
        "    }\n",
        "\n",
        "    printf(\"Test PASSED\\n\");\n",
        "\n",
        "    err = cudaDeviceReset();\n",
        "    if (err != cudaSuccess)\n",
        "    {\n",
        "        fprintf(stderr, \"Failed to deinitialize the device! error=%s\\n\", cudaGetErrorString(err));\n",
        "        exit(EXIT_FAILURE);\n",
        "    }\n",
        "\n",
        "    printf(\"Done\\n\");\n",
        "    return 0;\n",
        "}\n"
      ],
      "metadata": {
        "colab": {
          "base_uri": "https://localhost:8080/"
        },
        "id": "Ne0BnxymAwJX",
        "outputId": "6ca9d270-8add-4018-8bdd-ce92ffaeb82f"
      },
      "execution_count": 1,
      "outputs": [
        {
          "output_type": "stream",
          "name": "stdout",
          "text": [
            "Writing 1.1.cu\n"
          ]
        }
      ]
    },
    {
      "cell_type": "code",
      "source": [
        "!nvcc 1.1.cu -o 1.1 -arch=sm_75\n",
        "!./1.1"
      ],
      "metadata": {
        "colab": {
          "base_uri": "https://localhost:8080/"
        },
        "id": "Qivcd380BB9r",
        "outputId": "df8511ed-eac1-4842-f7d7-89a3d6a3d6a2"
      },
      "execution_count": 2,
      "outputs": [
        {
          "output_type": "stream",
          "name": "stdout",
          "text": [
            "Vector addition of 1048576 elements\n",
            "CUDA kernel launch with 4096 blocks of 256 threads\n",
            "Test PASSED\n",
            "Done\n"
          ]
        }
      ]
    },
    {
      "cell_type": "code",
      "source": [
        "!nvprof ./1.1"
      ],
      "metadata": {
        "colab": {
          "base_uri": "https://localhost:8080/"
        },
        "id": "BZRNv6M6BESu",
        "outputId": "0fe1808e-3fbe-447e-d42c-f36f0902a5bf"
      },
      "execution_count": 3,
      "outputs": [
        {
          "output_type": "stream",
          "name": "stdout",
          "text": [
            "Vector addition of 1048576 elements\n",
            "CUDA kernel launch with 4096 blocks of 256 threads\n",
            "==919== NVPROF is profiling process 919, command: ./1.1\n",
            "Test PASSED\n",
            "Done\n",
            "==919== Profiling application: ./1.1\n",
            "==919== Profiling result:\n",
            "            Type  Time(%)      Time     Calls       Avg       Min       Max  Name\n",
            " GPU activities:   57.59%  54.367us         1  54.367us  54.367us  54.367us  vectorAdd(int)\n",
            "                   39.93%  37.696us         1  37.696us  37.696us  37.696us  initializeArrays(int)\n",
            "                    2.47%  2.3360us         1  2.3360us  2.3360us  2.3360us  [CUDA memcpy DtoH]\n",
            "      API calls:   75.15%  85.973ms         2  42.987ms  6.7560us  85.967ms  cudaLaunchKernel\n",
            "                   23.80%  27.230ms         1  27.230ms  27.230ms  27.230ms  cudaDeviceReset\n",
            "                    0.84%  957.30us         1  957.30us  957.30us  957.30us  cudaMemcpyFromSymbol\n",
            "                    0.12%  135.12us       114  1.1850us     102ns  54.764us  cuDeviceGetAttribute\n",
            "                    0.08%  90.701us         2  45.350us  32.738us  57.963us  cudaDeviceSynchronize\n",
            "                    0.01%  11.582us         1  11.582us  11.582us  11.582us  cuDeviceGetName\n",
            "                    0.01%  6.8080us         1  6.8080us  6.8080us  6.8080us  cuDeviceGetPCIBusId\n",
            "                    0.00%  1.7680us         3     589ns     126ns  1.4200us  cuDeviceGetCount\n",
            "                    0.00%  1.1260us         2     563ns     134ns     992ns  cudaGetLastError\n",
            "                    0.00%     872ns         2     436ns     168ns     704ns  cuDeviceGet\n",
            "                    0.00%     601ns         1     601ns     601ns     601ns  cuDeviceTotalMem\n",
            "                    0.00%     433ns         1     433ns     433ns     433ns  cuModuleGetLoadingMode\n",
            "                    0.00%     212ns         1     212ns     212ns     212ns  cuDeviceGetUuid\n"
          ]
        }
      ]
    },
    {
      "cell_type": "markdown",
      "source": [
        "# Question 1.2\n"
      ],
      "metadata": {
        "id": "Ig2Uk-ZTBXDz"
      }
    },
    {
      "cell_type": "code",
      "source": [
        "%%writefile 1.2.cu\n",
        "#include <stdio.h>\n",
        "#include <cuda_runtime.h>\n",
        "#define N 1048576\n",
        "__device__ float d_A[N];\n",
        "__device__ float d_B[N];\n",
        "__device__ float d_C[N];\n",
        "\n",
        "__global__ void vectorAdd(int n)\n",
        "{\n",
        "    int i = blockDim.x * blockIdx.x + threadIdx.x;\n",
        "    if (i < n)\n",
        "    {\n",
        "        d_C[i] = d_A[i] + d_B[i];\n",
        "    }\n",
        "}\n",
        "\n",
        "__global__ void initializeArrays(int n)\n",
        "{\n",
        "    int i = blockDim.x * blockIdx.x + threadIdx.x;\n",
        "    if (i < n)\n",
        "    {\n",
        "        d_A[i] = i;\n",
        "        d_B[i] = 2 * i;\n",
        "    }\n",
        "}\n",
        "\n",
        "int main(void)\n",
        "{\n",
        "    cudaError_t err = cudaSuccess;\n",
        "\n",
        "    printf(\"Vector addition of %d elements\\n\", N);\n",
        "\n",
        "    int threadsPerBlock = 256;\n",
        "    int blocksPerGrid = (N + threadsPerBlock - 1) / threadsPerBlock;\n",
        "\n",
        "    printf(\"CUDA kernel launch with %d blocks of %d threads\\n\", blocksPerGrid, threadsPerBlock);\n",
        "\n",
        "    initializeArrays<<<blocksPerGrid, threadsPerBlock>>>(N);\n",
        "    err = cudaGetLastError();\n",
        "    if (err != cudaSuccess)\n",
        "    {\n",
        "        fprintf(stderr, \"Failed to launch initialize kernel (error code %s)!\\n\", cudaGetErrorString(err));\n",
        "        exit(EXIT_FAILURE);\n",
        "    }\n",
        "\n",
        "    cudaDeviceSynchronize();\n",
        "\n",
        "    cudaEvent_t start, stop;\n",
        "    cudaEventCreate(&start);\n",
        "    cudaEventCreate(&stop);\n",
        "\n",
        "    cudaEventRecord(start, NULL);\n",
        "\n",
        "    vectorAdd<<<blocksPerGrid, threadsPerBlock>>>(N);\n",
        "    err = cudaGetLastError();\n",
        "    if (err != cudaSuccess)\n",
        "    {\n",
        "        fprintf(stderr, \"Failed to launch vectorAdd kernel (error code %s)!\\n\", cudaGetErrorString(err));\n",
        "        exit(EXIT_FAILURE);\n",
        "    }\n",
        "\n",
        "    cudaEventRecord(stop, NULL);\n",
        "\n",
        "    cudaEventSynchronize(stop);\n",
        "\n",
        "    float milliseconds = 0;\n",
        "    cudaEventElapsedTime(&milliseconds, start, stop);\n",
        "\n",
        "    printf(\"Kernel execution time: %f ms\\n\", milliseconds);\n",
        "\n",
        "    float h_C[10]; // Just verify first 10 elements\n",
        "    err = cudaMemcpyFromSymbol(h_C, d_C, 10 * sizeof(float));\n",
        "    if (err != cudaSuccess)\n",
        "    {\n",
        "        fprintf(stderr, \"Failed to copy result array from device to host (error code %s)!\\n\", cudaGetErrorString(err));\n",
        "        exit(EXIT_FAILURE);\n",
        "    }\n",
        "\n",
        "    for (int i = 0; i < 10; i++)\n",
        "    {\n",
        "        float expected = i + 2*i;\n",
        "        if (fabs(h_C[i] - expected) > 1e-5)\n",
        "        {\n",
        "            fprintf(stderr, \"Result verification failed at element %d!\\n\", i);\n",
        "            exit(EXIT_FAILURE);\n",
        "        }\n",
        "    }\n",
        "\n",
        "    printf(\"Test PASSED\\n\");\n",
        "\n",
        "    cudaEventDestroy(start);\n",
        "    cudaEventDestroy(stop);\n",
        "\n",
        "    err = cudaDeviceReset();\n",
        "    if (err != cudaSuccess)\n",
        "    {\n",
        "        fprintf(stderr, \"Failed to deinitialize the device! error=%s\\n\", cudaGetErrorString(err));\n",
        "        exit(EXIT_FAILURE);\n",
        "    }\n",
        "\n",
        "    printf(\"Done\\n\");\n",
        "    return 0;\n",
        "}"
      ],
      "metadata": {
        "colab": {
          "base_uri": "https://localhost:8080/"
        },
        "id": "86QljagzBcaL",
        "outputId": "b083adaf-c5b2-42be-e54c-50a26e95188d"
      },
      "execution_count": 4,
      "outputs": [
        {
          "output_type": "stream",
          "name": "stdout",
          "text": [
            "Writing 1.2.cu\n"
          ]
        }
      ]
    },
    {
      "cell_type": "code",
      "source": [
        "!nvcc 1.2.cu -o 1.2 -arch=sm_75\n",
        "!./1.2"
      ],
      "metadata": {
        "colab": {
          "base_uri": "https://localhost:8080/"
        },
        "id": "Lr1kOz02BdqH",
        "outputId": "9eff9295-328e-43c1-b3aa-62ed39e3b7f0"
      },
      "execution_count": 5,
      "outputs": [
        {
          "output_type": "stream",
          "name": "stdout",
          "text": [
            "Vector addition of 1048576 elements\n",
            "CUDA kernel launch with 4096 blocks of 256 threads\n",
            "Kernel execution time: 0.077824 ms\n",
            "Test PASSED\n",
            "Done\n"
          ]
        }
      ]
    },
    {
      "cell_type": "code",
      "source": [
        "!nvprof ./1.2"
      ],
      "metadata": {
        "colab": {
          "base_uri": "https://localhost:8080/"
        },
        "id": "0CbhKx7bBfgq",
        "outputId": "5db83a17-a8c6-4807-b024-74abf4cdc8c6"
      },
      "execution_count": 6,
      "outputs": [
        {
          "output_type": "stream",
          "name": "stdout",
          "text": [
            "Vector addition of 1048576 elements\n",
            "CUDA kernel launch with 4096 blocks of 256 threads\n",
            "==1231== NVPROF is profiling process 1231, command: ./1.2\n",
            "Kernel execution time: 0.064480 ms\n",
            "Test PASSED\n",
            "Done\n",
            "==1231== Profiling application: ./1.2\n",
            "==1231== Profiling result:\n",
            "            Type  Time(%)      Time     Calls       Avg       Min       Max  Name\n",
            " GPU activities:   57.85%  54.367us         1  54.367us  54.367us  54.367us  vectorAdd(int)\n",
            "                   39.60%  37.215us         1  37.215us  37.215us  37.215us  initializeArrays(int)\n",
            "                    2.55%  2.4000us         1  2.4000us  2.4000us  2.4000us  [CUDA memcpy DtoH]\n",
            "      API calls:   77.93%  101.23ms         2  50.617ms  7.5140us  101.23ms  cudaLaunchKernel\n",
            "                   21.83%  28.352ms         1  28.352ms  28.352ms  28.352ms  cudaDeviceReset\n",
            "                    0.10%  130.02us       114  1.1400us     101ns  52.978us  cuDeviceGetAttribute\n",
            "                    0.05%  70.918us         1  70.918us  70.918us  70.918us  cudaEventSynchronize\n",
            "                    0.03%  36.349us         1  36.349us  36.349us  36.349us  cudaDeviceSynchronize\n",
            "                    0.03%  34.092us         1  34.092us  34.092us  34.092us  cudaMemcpyFromSymbol\n",
            "                    0.01%  10.938us         1  10.938us  10.938us  10.938us  cuDeviceGetName\n",
            "                    0.01%  7.4780us         2  3.7390us  2.8910us  4.5870us  cudaEventRecord\n",
            "                    0.01%  7.0470us         2  3.5230us     494ns  6.5530us  cudaEventCreate\n",
            "                    0.00%  6.3880us         1  6.3880us  6.3880us  6.3880us  cuDeviceGetPCIBusId\n",
            "                    0.00%  2.6480us         1  2.6480us  2.6480us  2.6480us  cudaEventElapsedTime\n",
            "                    0.00%  2.0950us         2  1.0470us     625ns  1.4700us  cudaEventDestroy\n",
            "                    0.00%  1.6570us         3     552ns     128ns  1.3570us  cuDeviceGetCount\n",
            "                    0.00%  1.0770us         2     538ns     141ns     936ns  cuDeviceGet\n",
            "                    0.00%     908ns         2     454ns     142ns     766ns  cudaGetLastError\n",
            "                    0.00%     440ns         1     440ns     440ns     440ns  cuDeviceTotalMem\n",
            "                    0.00%     342ns         1     342ns     342ns     342ns  cuModuleGetLoadingMode\n",
            "                    0.00%     264ns         1     264ns     264ns     264ns  cuDeviceGetUuid\n"
          ]
        }
      ]
    },
    {
      "cell_type": "markdown",
      "source": [
        "# Question 1.3"
      ],
      "metadata": {
        "id": "h6PATGlbBlYR"
      }
    },
    {
      "cell_type": "code",
      "source": [
        "%%writefile 1.3.cu\n",
        "#include <stdio.h>\n",
        "#include <cuda_runtime.h>\n",
        "#define N 1048576\n",
        "__device__ float d_A[N];\n",
        "__device__ float d_B[N];\n",
        "__device__ float d_C[N];\n",
        "\n",
        "__global__ void vectorAdd(int n)\n",
        "{\n",
        "    int i = blockDim.x * blockIdx.x + threadIdx.x;\n",
        "    if (i < n)\n",
        "    {\n",
        "        d_C[i] = d_A[i] + d_B[i];\n",
        "    }\n",
        "}\n",
        "\n",
        "__global__ void initializeArrays(int n)\n",
        "{\n",
        "    int i = blockDim.x * blockIdx.x + threadIdx.x;\n",
        "    if (i < n)\n",
        "    {\n",
        "        d_A[i] = i;\n",
        "        d_B[i] = 2 * i;\n",
        "    }\n",
        "}\n",
        "\n",
        "int main(void)\n",
        "{\n",
        "    cudaError_t err = cudaSuccess;\n",
        "\n",
        "    printf(\"Vector addition of %d elements\\n\", N);\n",
        "\n",
        "    cudaDeviceProp deviceProp;\n",
        "    err = cudaGetDeviceProperties(&deviceProp, 0);\n",
        "    if (err != cudaSuccess)\n",
        "    {\n",
        "        fprintf(stderr, \"Failed to get device properties (error code %s)!\\n\", cudaGetErrorString(err));\n",
        "        exit(EXIT_FAILURE);\n",
        "    }\n",
        "\n",
        "    float memClockRate = deviceProp.memoryClockRate * 1000;\n",
        "    float memBusWidth = deviceProp.memoryBusWidth;\n",
        "    float theoreticalBW = (memClockRate * memBusWidth * 2) / 8.0f;\n",
        "    theoreticalBW = theoreticalBW / 1.0e9f; // Convert to GB/s\n",
        "\n",
        "    printf(\"Device: %s\\n\", deviceProp.name);\n",
        "    printf(\"Memory Clock Rate (KHz): %d\\n\", deviceProp.memoryClockRate);\n",
        "    printf(\"Memory Bus Width (bits): %d\\n\", deviceProp.memoryBusWidth);\n",
        "    printf(\"Theoretical Bandwidth (GB/s): %f\\n\", theoreticalBW);\n",
        "\n",
        "    int threadsPerBlock = 256;\n",
        "    int blocksPerGrid = (N + threadsPerBlock - 1) / threadsPerBlock;\n",
        "\n",
        "    printf(\"CUDA kernel launch with %d blocks of %d threads\\n\", blocksPerGrid, threadsPerBlock);\n",
        "\n",
        "    initializeArrays<<<blocksPerGrid, threadsPerBlock>>>(N);\n",
        "    err = cudaGetLastError();\n",
        "    if (err != cudaSuccess)\n",
        "    {\n",
        "        fprintf(stderr, \"Failed to launch initialize kernel (error code %s)!\\n\", cudaGetErrorString(err));\n",
        "        exit(EXIT_FAILURE);\n",
        "    }\n",
        "\n",
        "    cudaDeviceSynchronize();\n",
        "\n",
        "    vectorAdd<<<blocksPerGrid, threadsPerBlock>>>(N);\n",
        "    err = cudaGetLastError();\n",
        "    if (err != cudaSuccess)\n",
        "    {\n",
        "        fprintf(stderr, \"Failed to launch vectorAdd kernel (error code %s)!\\n\", cudaGetErrorString(err));\n",
        "        exit(EXIT_FAILURE);\n",
        "    }\n",
        "\n",
        "    cudaDeviceSynchronize();\n",
        "\n",
        "    float h_C[10]; // Just verify first 10 elements\n",
        "    err = cudaMemcpyFromSymbol(h_C, d_C, 10 * sizeof(float));\n",
        "    if (err != cudaSuccess)\n",
        "    {\n",
        "        fprintf(stderr, \"Failed to copy result array from device to host (error code %s)!\\n\", cudaGetErrorString(err));\n",
        "        exit(EXIT_FAILURE);\n",
        "    }\n",
        "\n",
        "    for (int i = 0; i < 10; i++)\n",
        "    {\n",
        "        float expected = i + 2*i;\n",
        "        if (fabs(h_C[i] - expected) > 1e-5)\n",
        "        {\n",
        "            fprintf(stderr, \"Result verification failed at element %d!\\n\", i);\n",
        "            exit(EXIT_FAILURE);\n",
        "        }\n",
        "    }\n",
        "\n",
        "    printf(\"Test PASSED\\n\");\n",
        "\n",
        "    err = cudaDeviceReset();\n",
        "    if (err != cudaSuccess)\n",
        "    {\n",
        "        fprintf(stderr, \"Failed to deinitialize the device! error=%s\\n\", cudaGetErrorString(err));\n",
        "        exit(EXIT_FAILURE);\n",
        "    }\n",
        "\n",
        "    printf(\"Done\\n\");\n",
        "    return 0;\n",
        "}"
      ],
      "metadata": {
        "colab": {
          "base_uri": "https://localhost:8080/"
        },
        "id": "0hjwWcN8BpBf",
        "outputId": "592f123f-ab70-4e91-e77c-39a919adc642"
      },
      "execution_count": 7,
      "outputs": [
        {
          "output_type": "stream",
          "name": "stdout",
          "text": [
            "Writing 1.3.cu\n"
          ]
        }
      ]
    },
    {
      "cell_type": "code",
      "source": [
        "!nvcc 1.3.cu -o 1.3 -arch=sm_75\n",
        "!./1.3"
      ],
      "metadata": {
        "colab": {
          "base_uri": "https://localhost:8080/"
        },
        "id": "iz7zjexIBqVF",
        "outputId": "0b5c54ed-4434-497e-9e1e-2b139d7042d5"
      },
      "execution_count": 8,
      "outputs": [
        {
          "output_type": "stream",
          "name": "stdout",
          "text": [
            "Vector addition of 1048576 elements\n",
            "Device: Tesla T4\n",
            "Memory Clock Rate (KHz): 5001000\n",
            "Memory Bus Width (bits): 256\n",
            "Theoretical Bandwidth (GB/s): 45.186092\n",
            "CUDA kernel launch with 4096 blocks of 256 threads\n",
            "Test PASSED\n",
            "Done\n"
          ]
        }
      ]
    },
    {
      "cell_type": "code",
      "source": [
        "!nvprof ./1.3"
      ],
      "metadata": {
        "colab": {
          "base_uri": "https://localhost:8080/"
        },
        "id": "aU9y3dnVBtXn",
        "outputId": "0b3dc86d-6fa6-4717-8119-2ea703cd961a"
      },
      "execution_count": 9,
      "outputs": [
        {
          "output_type": "stream",
          "name": "stdout",
          "text": [
            "Vector addition of 1048576 elements\n",
            "==1509== NVPROF is profiling process 1509, command: ./1.3\n",
            "Device: Tesla T4\n",
            "Memory Clock Rate (KHz): 5001000\n",
            "Memory Bus Width (bits): 256\n",
            "Theoretical Bandwidth (GB/s): 45.186092\n",
            "CUDA kernel launch with 4096 blocks of 256 threads\n",
            "Test PASSED\n",
            "Done\n",
            "==1509== Profiling application: ./1.3\n",
            "==1509== Profiling result:\n",
            "            Type  Time(%)      Time     Calls       Avg       Min       Max  Name\n",
            " GPU activities:   57.73%  54.271us         1  54.271us  54.271us  54.271us  vectorAdd(int)\n",
            "                   39.79%  37.407us         1  37.407us  37.407us  37.407us  initializeArrays(int)\n",
            "                    2.48%  2.3360us         1  2.3360us  2.3360us  2.3360us  [CUDA memcpy DtoH]\n",
            "      API calls:   78.64%  104.56ms         2  52.281ms  6.9880us  104.56ms  cudaLaunchKernel\n",
            "                   21.08%  28.034ms         1  28.034ms  28.034ms  28.034ms  cudaDeviceReset\n",
            "                    0.10%  130.51us       114  1.1440us     108ns  53.814us  cuDeviceGetAttribute\n",
            "                    0.07%  95.274us         1  95.274us  95.274us  95.274us  cudaGetDeviceProperties\n",
            "                    0.07%  94.193us         2  47.096us  36.381us  57.812us  cudaDeviceSynchronize\n",
            "                    0.02%  25.826us         1  25.826us  25.826us  25.826us  cudaMemcpyFromSymbol\n",
            "                    0.01%  10.872us         1  10.872us  10.872us  10.872us  cuDeviceGetName\n",
            "                    0.00%  5.8360us         1  5.8360us  5.8360us  5.8360us  cuDeviceGetPCIBusId\n",
            "                    0.00%  1.1630us         3     387ns     120ns     808ns  cuDeviceGetCount\n",
            "                    0.00%  1.1020us         2     551ns     116ns     986ns  cudaGetLastError\n",
            "                    0.00%     658ns         1     658ns     658ns     658ns  cuModuleGetLoadingMode\n",
            "                    0.00%     620ns         2     310ns     122ns     498ns  cuDeviceGet\n",
            "                    0.00%     425ns         1     425ns     425ns     425ns  cuDeviceTotalMem\n",
            "                    0.00%     271ns         1     271ns     271ns     271ns  cuDeviceGetUuid\n"
          ]
        }
      ]
    },
    {
      "cell_type": "markdown",
      "source": [
        "# Question 1.4\n"
      ],
      "metadata": {
        "id": "kXSP1JPrByy8"
      }
    },
    {
      "cell_type": "code",
      "source": [
        "%%writefile 1.4.cu\n",
        "#include <stdio.h>\n",
        "#include <cuda_runtime.h>\n",
        "#define N 1048576\n",
        "__device__ float d_A[N];\n",
        "__device__ float d_B[N];\n",
        "__device__ float d_C[N];\n",
        "\n",
        "__global__ void vectorAdd(int n)\n",
        "{\n",
        "    int i = blockDim.x * blockIdx.x + threadIdx.x;\n",
        "    if (i < n)\n",
        "    {\n",
        "        d_C[i] = d_A[i] + d_B[i];\n",
        "    }\n",
        "}\n",
        "\n",
        "__global__ void initializeArrays(int n)\n",
        "{\n",
        "    int i = blockDim.x * blockIdx.x + threadIdx.x;\n",
        "    if (i < n)\n",
        "    {\n",
        "        d_A[i] = i;\n",
        "        d_B[i] = 2 * i;\n",
        "    }\n",
        "}\n",
        "\n",
        "int main(void)\n",
        "{\n",
        "    cudaError_t err = cudaSuccess;\n",
        "\n",
        "    printf(\"Vector addition of %d elements\\n\", N);\n",
        "\n",
        "    cudaDeviceProp deviceProp;\n",
        "    err = cudaGetDeviceProperties(&deviceProp, 0);\n",
        "    if (err != cudaSuccess)\n",
        "    {\n",
        "        fprintf(stderr, \"Failed to get device properties (error code %s)!\\n\", cudaGetErrorString(err));\n",
        "        exit(EXIT_FAILURE);\n",
        "    }\n",
        "\n",
        "    float memClockRate = deviceProp.memoryClockRate * 1000;\n",
        "    float memBusWidth = deviceProp.memoryBusWidth;\n",
        "    float theoreticalBW = (memClockRate * memBusWidth * 2) / 8.0f;\n",
        "    theoreticalBW = theoreticalBW / 1.0e9f; // Convert to GB/s\n",
        "\n",
        "    printf(\"Device: %s\\n\", deviceProp.name);\n",
        "    printf(\"Memory Clock Rate (KHz): %d\\n\", deviceProp.memoryClockRate);\n",
        "    printf(\"Memory Bus Width (bits): %d\\n\", deviceProp.memoryBusWidth);\n",
        "    printf(\"Theoretical Bandwidth (GB/s): %f\\n\", theoreticalBW);\n",
        "\n",
        "    int threadsPerBlock = 256;\n",
        "    int blocksPerGrid = (N + threadsPerBlock - 1) / threadsPerBlock;\n",
        "\n",
        "    printf(\"CUDA kernel launch with %d blocks of %d threads\\n\", blocksPerGrid, threadsPerBlock);\n",
        "\n",
        "    initializeArrays<<<blocksPerGrid, threadsPerBlock>>>(N);\n",
        "    err = cudaGetLastError();\n",
        "    if (err != cudaSuccess)\n",
        "    {\n",
        "        fprintf(stderr, \"Failed to launch initialize kernel (error code %s)!\\n\", cudaGetErrorString(err));\n",
        "        exit(EXIT_FAILURE);\n",
        "    }\n",
        "\n",
        "    cudaDeviceSynchronize();\n",
        "\n",
        "    cudaEvent_t start, stop;\n",
        "    cudaEventCreate(&start);\n",
        "    cudaEventCreate(&stop);\n",
        "\n",
        "    cudaEventRecord(start, NULL);\n",
        "\n",
        "    vectorAdd<<<blocksPerGrid, threadsPerBlock>>>(N);\n",
        "    err = cudaGetLastError();\n",
        "    if (err != cudaSuccess)\n",
        "    {\n",
        "        fprintf(stderr, \"Failed to launch vectorAdd kernel (error code %s)!\\n\", cudaGetErrorString(err));\n",
        "        exit(EXIT_FAILURE);\n",
        "    }\n",
        "\n",
        "    cudaEventRecord(stop, NULL);\n",
        "\n",
        "    cudaEventSynchronize(stop);\n",
        "\n",
        "    float milliseconds = 0;\n",
        "    cudaEventElapsedTime(&milliseconds, start, stop);\n",
        "\n",
        "    printf(\"Kernel execution time: %f ms\\n\", milliseconds);\n",
        "\n",
        "    size_t bytesRead = 2 * sizeof(float) * N;\n",
        "    size_t bytesWritten = sizeof(float) * N;\n",
        "    float totalBytes = (float)(bytesRead + bytesWritten);\n",
        "    float seconds = milliseconds / 1000.0f;\n",
        "    float measuredBW = totalBytes / seconds / 1.0e9f;\n",
        "\n",
        "    printf(\"Data read: %.2f MB\\n\", bytesRead / (1024.0f * 1024.0f));\n",
        "    printf(\"Data written: %.2f MB\\n\", bytesWritten / (1024.0f * 1024.0f));\n",
        "    printf(\"Measured Bandwidth (GB/s): %.2f\\n\", measuredBW);\n",
        "    printf(\"Bandwidth utilization: %.2f%%\\n\", (measuredBW / theoreticalBW) * 100.0f);\n",
        "\n",
        "    float h_C[10]; // Just verify first 10 elements\n",
        "    err = cudaMemcpyFromSymbol(h_C, d_C, 10 * sizeof(float));\n",
        "    if (err != cudaSuccess)\n",
        "    {\n",
        "        fprintf(stderr, \"Failed to copy result array from device to host (error code %s)!\\n\", cudaGetErrorString(err));\n",
        "        exit(EXIT_FAILURE);\n",
        "    }\n",
        "\n",
        "    for (int i = 0; i < 10; i++)\n",
        "    {\n",
        "        float expected = i + 2*i;\n",
        "        if (fabs(h_C[i] - expected) > 1e-5)\n",
        "        {\n",
        "            fprintf(stderr, \"Result verification failed at element %d!\\n\", i);\n",
        "            exit(EXIT_FAILURE);\n",
        "        }\n",
        "    }\n",
        "\n",
        "    printf(\"Test PASSED\\n\");\n",
        "\n",
        "    cudaEventDestroy(start);\n",
        "    cudaEventDestroy(stop);\n",
        "\n",
        "    err = cudaDeviceReset();\n",
        "    if (err != cudaSuccess)\n",
        "    {\n",
        "        fprintf(stderr, \"Failed to deinitialize the device! error=%s\\n\", cudaGetErrorString(err));\n",
        "        exit(EXIT_FAILURE);\n",
        "    }\n",
        "\n",
        "    printf(\"Done\\n\");\n",
        "    return 0;\n",
        "}"
      ],
      "metadata": {
        "colab": {
          "base_uri": "https://localhost:8080/"
        },
        "id": "IOjR5WmzB2XU",
        "outputId": "28dd6e17-eb9a-4c77-ec51-08f7d785f2d3"
      },
      "execution_count": 10,
      "outputs": [
        {
          "output_type": "stream",
          "name": "stdout",
          "text": [
            "Writing 1.4.cu\n"
          ]
        }
      ]
    },
    {
      "cell_type": "code",
      "source": [
        "!nvcc 1.4.cu -o 1.4 -arch=sm_75\n",
        "!./1.4"
      ],
      "metadata": {
        "colab": {
          "base_uri": "https://localhost:8080/"
        },
        "id": "Ch4Fxz-UB3kv",
        "outputId": "a15a39dd-b2a8-4802-c6fe-6cd10cdb147f"
      },
      "execution_count": 11,
      "outputs": [
        {
          "output_type": "stream",
          "name": "stdout",
          "text": [
            "Vector addition of 1048576 elements\n",
            "Device: Tesla T4\n",
            "Memory Clock Rate (KHz): 5001000\n",
            "Memory Bus Width (bits): 256\n",
            "Theoretical Bandwidth (GB/s): 45.186092\n",
            "CUDA kernel launch with 4096 blocks of 256 threads\n",
            "Kernel execution time: 0.074080 ms\n",
            "Data read: 8.00 MB\n",
            "Data written: 4.00 MB\n",
            "Measured Bandwidth (GB/s): 169.86\n",
            "Bandwidth utilization: 375.90%\n",
            "Test PASSED\n",
            "Done\n"
          ]
        }
      ]
    },
    {
      "cell_type": "code",
      "source": [
        "!nvprof ./1.4"
      ],
      "metadata": {
        "colab": {
          "base_uri": "https://localhost:8080/"
        },
        "id": "1obSM2GyB5G9",
        "outputId": "f3b5baef-45ec-491f-cdb3-a2401a376089"
      },
      "execution_count": 12,
      "outputs": [
        {
          "output_type": "stream",
          "name": "stdout",
          "text": [
            "Vector addition of 1048576 elements\n",
            "==1748== NVPROF is profiling process 1748, command: ./1.4\n",
            "Device: Tesla T4\n",
            "Memory Clock Rate (KHz): 5001000\n",
            "Memory Bus Width (bits): 256\n",
            "Theoretical Bandwidth (GB/s): 45.186092\n",
            "CUDA kernel launch with 4096 blocks of 256 threads\n",
            "Kernel execution time: 0.065888 ms\n",
            "Data read: 8.00 MB\n",
            "Data written: 4.00 MB\n",
            "Measured Bandwidth (GB/s): 190.97\n",
            "Bandwidth utilization: 422.64%\n",
            "Test PASSED\n",
            "Done\n",
            "==1748== Profiling application: ./1.4\n",
            "==1748== Profiling result:\n",
            "            Type  Time(%)      Time     Calls       Avg       Min       Max  Name\n",
            " GPU activities:   57.14%  54.143us         1  54.143us  54.143us  54.143us  vectorAdd(int)\n",
            "                   40.32%  38.207us         1  38.207us  38.207us  38.207us  initializeArrays(int)\n",
            "                    2.53%  2.4000us         1  2.4000us  2.4000us  2.4000us  [CUDA memcpy DtoH]\n",
            "      API calls:   69.93%  91.187ms         2  45.594ms  8.4240us  91.179ms  cudaLaunchKernel\n",
            "                   29.75%  38.791ms         1  38.791ms  38.791ms  38.791ms  cudaDeviceReset\n",
            "                    0.10%  134.34us       114  1.1780us     108ns  53.776us  cuDeviceGetAttribute\n",
            "                    0.09%  122.83us         1  122.83us  122.83us  122.83us  cudaGetDeviceProperties\n",
            "                    0.04%  56.719us         1  56.719us  56.719us  56.719us  cudaEventSynchronize\n",
            "                    0.03%  36.309us         1  36.309us  36.309us  36.309us  cudaDeviceSynchronize\n",
            "                    0.02%  29.301us         1  29.301us  29.301us  29.301us  cudaMemcpyFromSymbol\n",
            "                    0.01%  11.617us         1  11.617us  11.617us  11.617us  cuDeviceGetName\n",
            "                    0.01%  8.4470us         2  4.2230us  3.3480us  5.0990us  cudaEventRecord\n",
            "                    0.01%  7.7830us         2  3.8910us     728ns  7.0550us  cudaEventCreate\n",
            "                    0.00%  5.3530us         1  5.3530us  5.3530us  5.3530us  cuDeviceGetPCIBusId\n",
            "                    0.00%  2.1960us         1  2.1960us  2.1960us  2.1960us  cudaEventElapsedTime\n",
            "                    0.00%  1.7880us         2     894ns     440ns  1.3480us  cudaEventDestroy\n",
            "                    0.00%  1.4390us         3     479ns     116ns  1.0750us  cuDeviceGetCount\n",
            "                    0.00%     894ns         2     447ns     158ns     736ns  cudaGetLastError\n",
            "                    0.00%     757ns         2     378ns     142ns     615ns  cuDeviceGet\n",
            "                    0.00%     709ns         1     709ns     709ns     709ns  cuDeviceTotalMem\n",
            "                    0.00%     563ns         1     563ns     563ns     563ns  cuModuleGetLoadingMode\n",
            "                    0.00%     201ns         1     201ns     201ns     201ns  cuDeviceGetUuid\n"
          ]
        }
      ]
    },
    {
      "cell_type": "code",
      "source": [],
      "metadata": {
        "id": "vWn7CbcpB6_0"
      },
      "execution_count": null,
      "outputs": []
    }
  ]
}